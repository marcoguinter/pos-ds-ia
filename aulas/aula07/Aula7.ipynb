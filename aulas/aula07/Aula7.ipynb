{
 "cells": [
  {
   "cell_type": "code",
   "execution_count": 1,
   "metadata": {
    "collapsed": true,
    "pycharm": {
     "is_executing": false
    }
   },
   "outputs": [],
   "source": [
    "import pandas as pd\n",
    "import numpy as np"
   ]
  },
  {
   "cell_type": "code",
   "execution_count": 22,
   "outputs": [],
   "source": [
    "class Perceptron(object):\n",
    "    \n",
    "    def __init__(self, taxa_aprendizado, n_features, pesos=None, epocas=100):\n",
    "        self.taxa_aprendizado = taxa_aprendizado\n",
    "        if pesos is None:\n",
    "             self.pesos = np.random.uniform(-1, 1, n_features)\n",
    "        self.epocas = epocas\n",
    "        \n",
    "    # x_train é um Dataframe com as features do conjunto de dados\n",
    "    # y_train é um Series com os rótulos (label)\n",
    "    def fit(self, x_train, y_train):\n",
    "        \n",
    "         for e in range(self.epocas):\n",
    "              print(\"---------------------------\")\n",
    "              print(\"Epoca:\", e)\n",
    "            \n",
    "              qtde_erros = 0\n",
    "             \n",
    "              n_linhas = x_train.shape[0] # shape volta uma tupla com quantidade de linhas e colunas do dataframe\n",
    "              for row in range(n_linhas): \n",
    "                # row contém a linha, não o iterator\n",
    "            \n",
    "                print(\"\\t---------------------------\")\n",
    "                print(\"\\tAmostra:\", row)\n",
    "            \n",
    "                np_x = x_train.iloc[row].values  # iloc é para pegar o número da linha (iteração) equivalente do dataframe. Values é o array das features\n",
    "                np_y = y_train.iloc[row] # não precisou de values porque já é um array\n",
    "            \n",
    "                print(\"\\tx_atual:\", np_x)\n",
    "                print(\"\\tpesos:\", self.pesos)\n",
    "            \n",
    "                output = np.dot(self.pesos, np_x)  # Soma ponderada pela multiplicação dos pesos\n",
    "            \n",
    "                print(\"\\toutput: \", output)\n",
    "            \n",
    "                # Retorno binário sabendo se errou ou não\n",
    "                heaveside = 1 if output >= 0 else 0 \n",
    "            \n",
    "                print(\"\\theaveside: \",heaveside)\n",
    "                  \n",
    "                # houve erro  \n",
    "                if heaveside != np_y:\n",
    "                    qtde_erros += 1\n",
    "                    erro = np_y - heaveside\n",
    "                    print(\"\\terro:\", erro)\n",
    "                    self.pesos = self.pesos + (self.taxa_aprendizado * erro * np_x)\n",
    "                    print(\"\\tpesos atualizado:\", self.pesos)\n",
    "                else:\n",
    "                     print(\"\\tsem erros\")   \n",
    "                    \n",
    "                if qtde_erros == 0:\n",
    "                    # encerra o looping da epoca\n",
    "                    break\n",
    "                    \n",
    "    def predict(self, x_test):           \n",
    "           np_x = x_test.values \n",
    "           prediction = []\n",
    "           for x in np_x:\n",
    "               if self.pesos.dot(x) >= 0:\n",
    "                  prediction.append(1)\n",
    "               else:\n",
    "                   prediction.append(0)\n",
    "                \n",
    "           return prediction     "
   ],
   "metadata": {
    "collapsed": false,
    "pycharm": {
     "name": "#%%\n",
     "is_executing": false
    }
   }
  },
  {
   "cell_type": "code",
   "execution_count": 8,
   "outputs": [
    {
     "data": {
      "text/plain": "array([-0.60478376, -0.05631915])"
     },
     "metadata": {},
     "output_type": "execute_result",
     "execution_count": 8
    }
   ],
   "source": [
    "       \n",
    "## Cria      return predictionndo a variável\n",
    "\n",
    "perceptron = Perceptron( 0.5, 2)\n",
    "perceptron.pesos"
   ],
   "metadata": {
    "collapsed": false,
    "pycharm": {
     "name": "#%%              prediction.append(0)\n",
     "is_executing": false
    }
   }
  },
  {
   "cell_type": "markdown",
   "source": [
    "Criando o objeto"
   ],
   "metadata": {
    "collapsed": false
   }
  },
  {
   "cell_type": "code",
   "execution_count": null,
   "outputs": [],
   "source": [
    "                              \n"
   ],
   "metadata": {
    "collapsed": false,
    "pycharm": {
     "name": "#%%\n"
    }
   }
  },
  {
   "cell_type": "code",
   "execution_count": 28,
   "outputs": [
    {
     "data": {
      "text/plain": "    x1    x2  classe\n0  0.3  0.70       1\n1 -0.6  0.30       0\n2 -0.1 -0.80       0\n3  0.1 -0.49       1",
      "text/html": "<div>\n<style scoped>\n    .dataframe tbody tr th:only-of-type {\n        vertical-align: middle;\n    }\n\n    .dataframe tbody tr th {\n        vertical-align: top;\n    }\n\n    .dataframe thead th {\n        text-align: right;\n    }\n</style>\n<table border=\"1\" class=\"dataframe\">\n  <thead>\n    <tr style=\"text-align: right;\">\n      <th></th>\n      <th>x1</th>\n      <th>x2</th>\n      <th>classe</th>\n    </tr>\n  </thead>\n  <tbody>\n    <tr>\n      <th>0</th>\n      <td>0.3</td>\n      <td>0.70</td>\n      <td>1</td>\n    </tr>\n    <tr>\n      <th>1</th>\n      <td>-0.6</td>\n      <td>0.30</td>\n      <td>0</td>\n    </tr>\n    <tr>\n      <th>2</th>\n      <td>-0.1</td>\n      <td>-0.80</td>\n      <td>0</td>\n    </tr>\n    <tr>\n      <th>3</th>\n      <td>0.1</td>\n      <td>-0.49</td>\n      <td>1</td>\n    </tr>\n  </tbody>\n</table>\n</div>"
     },
     "metadata": {},
     "output_type": "execute_result",
     "execution_count": 28
    }
   ],
   "source": [
    "df = pd.DataFrame([])\n",
    "df[\"x1\"] = [0.3, -0.6, -0.1, 0.1]\n",
    "df[\"x2\"] = [0.7, 0.3, -0.8, -0.49]\n",
    "\n",
    "df[\"classe\"] = [1, 0, 0, 1]\n",
    "\n",
    "\n",
    "\n",
    "df"
   ],
   "metadata": {
    "collapsed": false,
    "pycharm": {
     "name": "#%%\n",
     "is_executing": false
    }
   }
  },
  {
   "cell_type": "code",
   "execution_count": 29,
   "outputs": [
    {
     "name": "stdout",
     "text": [
      "---------------------------\nEpoca: 0\n\t---------------------------\n\tAmostra: 0\n\tx_atual: [0.3 0.7]\n\tpesos: [0.2946782  0.90579136]\n\toutput:  0.722457413319845\n\theaveside:  1\n\tsem erros\n---------------------------\nEpoca: 1\n\t---------------------------\n\tAmostra: 0\n\tx_atual: [0.3 0.7]\n\tpesos: [0.2946782  0.90579136]\n\toutput:  0.722457413319845\n\theaveside:  1\n\tsem erros\n---------------------------\nEpoca: 2\n\t---------------------------\n\tAmostra: 0\n\tx_atual: [0.3 0.7]\n\tpesos: [0.2946782  0.90579136]\n\toutput:  0.722457413319845\n\theaveside:  1\n\tsem erros\n---------------------------\nEpoca: 3\n\t---------------------------\n\tAmostra: 0\n\tx_atual: [0.3 0.7]\n\tpesos: [0.2946782  0.90579136]\n\toutput:  0.722457413319845\n\theaveside:  1\n\tsem erros\n---------------------------\nEpoca: 4\n\t---------------------------\n\tAmostra: 0\n\tx_atual: [0.3 0.7]\n\tpesos: [0.2946782  0.90579136]\n\toutput:  0.722457413319845\n\theaveside:  1\n\tsem erros\n---------------------------\nEpoca: 5\n\t---------------------------\n\tAmostra: 0\n\tx_atual: [0.3 0.7]\n\tpesos: [0.2946782  0.90579136]\n\toutput:  0.722457413319845\n\theaveside:  1\n\tsem erros\n---------------------------\nEpoca: 6\n\t---------------------------\n\tAmostra: 0\n\tx_atual: [0.3 0.7]\n\tpesos: [0.2946782  0.90579136]\n\toutput:  0.722457413319845\n\theaveside:  1\n\tsem erros\n---------------------------\nEpoca: 7\n\t---------------------------\n\tAmostra: 0\n\tx_atual: [0.3 0.7]\n\tpesos: [0.2946782  0.90579136]\n\toutput:  0.722457413319845\n\theaveside:  1\n\tsem erros\n---------------------------\nEpoca: 8\n\t---------------------------\n\tAmostra: 0\n\tx_atual: [0.3 0.7]\n\tpesos: [0.2946782  0.90579136]\n\toutput:  0.722457413319845\n\theaveside:  1\n\tsem erros\n---------------------------\nEpoca: 9\n\t---------------------------\n\tAmostra: 0\n\tx_atual: [0.3 0.7]\n\tpesos: [0.2946782  0.90579136]\n\toutput:  0.722457413319845\n\theaveside:  1\n\tsem erros\n---------------------------\nEpoca: 10\n\t---------------------------\n\tAmostra: 0\n\tx_atual: [0.3 0.7]\n\tpesos: [0.2946782  0.90579136]\n\toutput:  0.722457413319845\n\theaveside:  1\n\tsem erros\n---------------------------\nEpoca: 11\n\t---------------------------\n\tAmostra: 0\n\tx_atual: [0.3 0.7]\n\tpesos: [0.2946782  0.90579136]\n\toutput:  0.722457413319845\n\theaveside:  1\n\tsem erros\n---------------------------\nEpoca: 12\n\t---------------------------\n\tAmostra: 0\n\tx_atual: [0.3 0.7]\n\tpesos: [0.2946782  0.90579136]\n\toutput:  0.722457413319845\n\theaveside:  1\n\tsem erros\n---------------------------\nEpoca: 13\n\t---------------------------\n\tAmostra: 0\n\tx_atual: [0.3 0.7]\n\tpesos: [0.2946782  0.90579136]\n\toutput:  0.722457413319845\n\theaveside:  1\n\tsem erros\n---------------------------\nEpoca: 14\n\t---------------------------\n\tAmostra: 0\n\tx_atual: [0.3 0.7]\n\tpesos: [0.2946782  0.90579136]\n\toutput:  0.722457413319845\n\theaveside:  1\n\tsem erros\n---------------------------\nEpoca: 15\n\t---------------------------\n\tAmostra: 0\n\tx_atual: [0.3 0.7]\n\tpesos: [0.2946782  0.90579136]\n\toutput:  0.722457413319845\n\theaveside:  1\n\tsem erros\n---------------------------\nEpoca: 16\n\t---------------------------\n\tAmostra: 0\n\tx_atual: [0.3 0.7]\n\tpesos: [0.2946782  0.90579136]\n\toutput:  0.722457413319845\n\theaveside:  1\n\tsem erros\n---------------------------\nEpoca: 17\n\t---------------------------\n\tAmostra: 0\n\tx_atual: [0.3 0.7]\n\tpesos: [0.2946782  0.90579136]\n\toutput:  0.722457413319845\n\theaveside:  1\n\tsem erros\n---------------------------\nEpoca: 18\n\t---------------------------\n\tAmostra: 0\n\tx_atual: [0.3 0.7]\n\tpesos: [0.2946782  0.90579136]\n\toutput:  0.722457413319845\n\theaveside:  1\n\tsem erros\n---------------------------\nEpoca: 19\n\t---------------------------\n\tAmostra: 0\n\tx_atual: [0.3 0.7]\n\tpesos: [0.2946782  0.90579136]\n\toutput:  0.722457413319845\n\theaveside:  1\n\tsem erros\n---------------------------\nEpoca: 20\n\t---------------------------\n\tAmostra: 0\n\tx_atual: [0.3 0.7]\n\tpesos: [0.2946782  0.90579136]\n\toutput:  0.722457413319845\n\theaveside:  1\n\tsem erros\n---------------------------\nEpoca: 21\n\t---------------------------\n\tAmostra: 0\n\tx_atual: [0.3 0.7]\n\tpesos: [0.2946782  0.90579136]\n\toutput:  0.722457413319845\n\theaveside:  1\n\tsem erros\n---------------------------\nEpoca: 22\n\t---------------------------\n\tAmostra: 0\n\tx_atual: [0.3 0.7]\n\tpesos: [0.2946782  0.90579136]\n\toutput:  0.722457413319845\n\theaveside:  1\n\tsem erros\n---------------------------\nEpoca: 23\n\t---------------------------\n\tAmostra: 0\n\tx_atual: [0.3 0.7]\n\tpesos: [0.2946782  0.90579136]\n\toutput:  0.722457413319845\n\theaveside:  1\n\tsem erros\n---------------------------\nEpoca: 24\n\t---------------------------\n\tAmostra: 0\n\tx_atual: [0.3 0.7]\n\tpesos: [0.2946782  0.90579136]\n\toutput:  0.722457413319845\n\theaveside:  1\n\tsem erros\n---------------------------\nEpoca: 25\n\t---------------------------\n\tAmostra: 0\n\tx_atual: [0.3 0.7]\n\tpesos: [0.2946782  0.90579136]\n\toutput:  0.722457413319845\n\theaveside:  1\n\tsem erros\n---------------------------\nEpoca: 26\n\t---------------------------\n\tAmostra: 0\n\tx_atual: [0.3 0.7]\n\tpesos: [0.2946782  0.90579136]\n\toutput:  0.722457413319845\n\theaveside:  1\n\tsem erros\n---------------------------\nEpoca: 27\n\t---------------------------\n\tAmostra: 0\n\tx_atual: [0.3 0.7]\n\tpesos: [0.2946782  0.90579136]\n\toutput:  0.722457413319845\n\theaveside:  1\n\tsem erros\n---------------------------\nEpoca: 28\n\t---------------------------\n\tAmostra: 0\n\tx_atual: [0.3 0.7]\n\tpesos: [0.2946782  0.90579136]\n\toutput:  0.722457413319845\n\theaveside:  1\n\tsem erros\n---------------------------\nEpoca: 29\n\t---------------------------\n\tAmostra: 0\n\tx_atual: [0.3 0.7]\n\tpesos: [0.2946782  0.90579136]\n\toutput:  0.722457413319845\n\theaveside:  1\n\tsem erros\n---------------------------\nEpoca: 30\n\t---------------------------\n\tAmostra: 0\n\tx_atual: [0.3 0.7]\n\tpesos: [0.2946782  0.90579136]\n\toutput:  0.722457413319845\n\theaveside:  1\n\tsem erros\n---------------------------\nEpoca: 31\n\t---------------------------\n\tAmostra: 0\n\tx_atual: [0.3 0.7]\n\tpesos: [0.2946782  0.90579136]\n\toutput:  0.722457413319845\n\theaveside:  1\n\tsem erros\n---------------------------\nEpoca: 32\n\t---------------------------\n\tAmostra: 0\n\tx_atual: [0.3 0.7]\n\tpesos: [0.2946782  0.90579136]\n\toutput:  0.722457413319845\n\theaveside:  1\n\tsem erros\n---------------------------\nEpoca: 33\n\t---------------------------\n\tAmostra: 0\n\tx_atual: [0.3 0.7]\n\tpesos: [0.2946782  0.90579136]\n\toutput:  0.722457413319845\n\theaveside:  1\n\tsem erros\n---------------------------\nEpoca: 34\n\t---------------------------\n\tAmostra: 0\n\tx_atual: [0.3 0.7]\n\tpesos: [0.2946782  0.90579136]\n\toutput:  0.722457413319845\n\theaveside:  1\n\tsem erros\n---------------------------\nEpoca: 35\n\t---------------------------\n\tAmostra: 0\n\tx_atual: [0.3 0.7]\n\tpesos: [0.2946782  0.90579136]\n\toutput:  0.722457413319845\n\theaveside:  1\n\tsem erros\n---------------------------\nEpoca: 36\n\t---------------------------\n\tAmostra: 0\n\tx_atual: [0.3 0.7]\n\tpesos: [0.2946782  0.90579136]\n\toutput:  0.722457413319845\n\theaveside:  1\n\tsem erros\n---------------------------\nEpoca: 37\n\t---------------------------\n\tAmostra: 0\n\tx_atual: [0.3 0.7]\n\tpesos: [0.2946782  0.90579136]\n\toutput:  0.722457413319845\n\theaveside:  1\n\tsem erros\n---------------------------\nEpoca: 38\n\t---------------------------\n\tAmostra: 0\n\tx_atual: [0.3 0.7]\n\tpesos: [0.2946782  0.90579136]\n\toutput:  0.722457413319845\n\theaveside:  1\n\tsem erros\n---------------------------\nEpoca: 39\n\t---------------------------\n\tAmostra: 0\n\tx_atual: [0.3 0.7]\n\tpesos: [0.2946782  0.90579136]\n\toutput:  0.722457413319845\n\theaveside:  1\n\tsem erros\n---------------------------\nEpoca: 40\n\t---------------------------\n\tAmostra: 0\n\tx_atual: [0.3 0.7]\n\tpesos: [0.2946782  0.90579136]\n\toutput:  0.722457413319845\n\theaveside:  1\n\tsem erros\n---------------------------\nEpoca: 41\n\t---------------------------\n\tAmostra: 0\n\tx_atual: [0.3 0.7]\n\tpesos: [0.2946782  0.90579136]\n\toutput:  0.722457413319845\n\theaveside:  1\n\tsem erros\n---------------------------\nEpoca: 42\n\t---------------------------\n\tAmostra: 0\n\tx_atual: [0.3 0.7]\n\tpesos: [0.2946782  0.90579136]\n\toutput:  0.722457413319845\n\theaveside:  1\n\tsem erros\n---------------------------\nEpoca: 43\n\t---------------------------\n\tAmostra: 0\n\tx_atual: [0.3 0.7]\n\tpesos: [0.2946782  0.90579136]\n\toutput:  0.722457413319845\n\theaveside:  1\n\tsem erros\n---------------------------\nEpoca: 44\n\t---------------------------\n\tAmostra: 0\n\tx_atual: [0.3 0.7]\n\tpesos: [0.2946782  0.90579136]\n\toutput:  0.722457413319845\n\theaveside:  1\n\tsem erros\n---------------------------\nEpoca: 45\n\t---------------------------\n\tAmostra: 0\n\tx_atual: [0.3 0.7]\n\tpesos: [0.2946782  0.90579136]\n\toutput:  0.722457413319845\n\theaveside:  1\n\tsem erros\n---------------------------\nEpoca: 46\n\t---------------------------\n\tAmostra: 0\n\tx_atual: [0.3 0.7]\n\tpesos: [0.2946782  0.90579136]\n\toutput:  0.722457413319845\n\theaveside:  1\n\tsem erros\n---------------------------\nEpoca: 47\n\t---------------------------\n\tAmostra: 0\n\tx_atual: [0.3 0.7]\n\tpesos: [0.2946782  0.90579136]\n\toutput:  0.722457413319845\n\theaveside:  1\n\tsem erros\n---------------------------\nEpoca: 48\n\t---------------------------\n\tAmostra: 0\n\tx_atual: [0.3 0.7]\n\tpesos: [0.2946782  0.90579136]\n\toutput:  0.722457413319845\n\theaveside:  1\n\tsem erros\n---------------------------\nEpoca: 49\n\t---------------------------\n\tAmostra: 0\n\tx_atual: [0.3 0.7]\n\tpesos: [0.2946782  0.90579136]\n\toutput:  0.722457413319845\n\theaveside:  1\n\tsem erros\n---------------------------\nEpoca: 50\n\t---------------------------\n\tAmostra: 0\n\tx_atual: [0.3 0.7]\n\tpesos: [0.2946782  0.90579136]\n\toutput:  0.722457413319845\n\theaveside:  1\n\tsem erros\n---------------------------\nEpoca: 51\n\t---------------------------\n\tAmostra: 0\n\tx_atual: [0.3 0.7]\n\tpesos: [0.2946782  0.90579136]\n\toutput:  0.722457413319845\n\theaveside:  1\n\tsem erros\n---------------------------\nEpoca: 52\n\t---------------------------\n\tAmostra: 0\n\tx_atual: [0.3 0.7]\n\tpesos: [0.2946782  0.90579136]\n\toutput:  0.722457413319845\n\theaveside:  1\n\tsem erros\n---------------------------\nEpoca: 53\n\t---------------------------\n\tAmostra: 0\n\tx_atual: [0.3 0.7]\n\tpesos: [0.2946782  0.90579136]\n\toutput:  0.722457413319845\n\theaveside:  1\n\tsem erros\n---------------------------\nEpoca: 54\n\t---------------------------\n\tAmostra: 0\n\tx_atual: [0.3 0.7]\n\tpesos: [0.2946782  0.90579136]\n\toutput:  0.722457413319845\n\theaveside:  1\n\tsem erros\n---------------------------\nEpoca: 55\n\t---------------------------\n\tAmostra: 0\n\tx_atual: [0.3 0.7]\n\tpesos: [0.2946782  0.90579136]\n\toutput:  0.722457413319845\n\theaveside:  1\n\tsem erros\n---------------------------\nEpoca: 56\n\t---------------------------\n\tAmostra: 0\n\tx_atual: [0.3 0.7]\n\tpesos: [0.2946782  0.90579136]\n\toutput:  0.722457413319845\n\theaveside:  1\n\tsem erros\n---------------------------\nEpoca: 57\n\t---------------------------\n\tAmostra: 0\n\tx_atual: [0.3 0.7]\n\tpesos: [0.2946782  0.90579136]\n\toutput:  0.722457413319845\n\theaveside:  1\n\tsem erros\n---------------------------\nEpoca: 58\n\t---------------------------\n\tAmostra: 0\n\tx_atual: [0.3 0.7]\n\tpesos: [0.2946782  0.90579136]\n\toutput:  0.722457413319845\n\theaveside:  1\n\tsem erros\n---------------------------\nEpoca: 59\n\t---------------------------\n\tAmostra: 0\n\tx_atual: [0.3 0.7]\n\tpesos: [0.2946782  0.90579136]\n\toutput:  0.722457413319845\n\theaveside:  1\n\tsem erros\n---------------------------\nEpoca: 60\n\t---------------------------\n\tAmostra: 0\n\tx_atual: [0.3 0.7]\n\tpesos: [0.2946782  0.90579136]\n\toutput:  0.722457413319845\n\theaveside:  1\n\tsem erros\n---------------------------\nEpoca: 61\n\t---------------------------\n\tAmostra: 0\n\tx_atual: [0.3 0.7]\n\tpesos: [0.2946782  0.90579136]\n\toutput:  0.722457413319845\n\theaveside:  1\n\tsem erros\n---------------------------\nEpoca: 62\n\t---------------------------\n\tAmostra: 0\n\tx_atual: [0.3 0.7]\n\tpesos: [0.2946782  0.90579136]\n\toutput:  0.722457413319845\n\theaveside:  1\n\tsem erros\n---------------------------\nEpoca: 63\n\t---------------------------\n\tAmostra: 0\n\tx_atual: [0.3 0.7]\n\tpesos: [0.2946782  0.90579136]\n\toutput:  0.722457413319845\n\theaveside:  1\n\tsem erros\n---------------------------\nEpoca: 64\n\t---------------------------\n\tAmostra: 0\n\tx_atual: [0.3 0.7]\n\tpesos: [0.2946782  0.90579136]\n\toutput:  0.722457413319845\n\theaveside:  1\n\tsem erros\n---------------------------\nEpoca: 65\n\t---------------------------\n\tAmostra: 0\n\tx_atual: [0.3 0.7]\n\tpesos: [0.2946782  0.90579136]\n\toutput:  0.722457413319845\n\theaveside:  1\n\tsem erros\n---------------------------\nEpoca: 66\n\t---------------------------\n\tAmostra: 0\n\tx_atual: [0.3 0.7]\n\tpesos: [0.2946782  0.90579136]\n\toutput:  0.722457413319845\n\theaveside:  1\n\tsem erros\n---------------------------\nEpoca: 67\n\t---------------------------\n\tAmostra: 0\n\tx_atual: [0.3 0.7]\n\tpesos: [0.2946782  0.90579136]\n\toutput:  0.722457413319845\n\theaveside:  1\n\tsem erros\n---------------------------\nEpoca: 68\n\t---------------------------\n\tAmostra: 0\n\tx_atual: [0.3 0.7]\n\tpesos: [0.2946782  0.90579136]\n\toutput:  0.722457413319845\n\theaveside:  1\n\tsem erros\n---------------------------\nEpoca: 69\n\t---------------------------\n\tAmostra: 0\n\tx_atual: [0.3 0.7]\n\tpesos: [0.2946782  0.90579136]\n\toutput:  0.722457413319845\n\theaveside:  1\n\tsem erros\n---------------------------\nEpoca: 70\n\t---------------------------\n\tAmostra: 0\n\tx_atual: [0.3 0.7]\n\tpesos: [0.2946782  0.90579136]\n\toutput:  0.722457413319845\n\theaveside:  1\n\tsem erros\n---------------------------\nEpoca: 71\n\t---------------------------\n\tAmostra: 0\n\tx_atual: [0.3 0.7]\n\tpesos: [0.2946782  0.90579136]\n\toutput:  0.722457413319845\n\theaveside:  1\n\tsem erros\n---------------------------\nEpoca: 72\n\t---------------------------\n\tAmostra: 0\n\tx_atual: [0.3 0.7]\n\tpesos: [0.2946782  0.90579136]\n\toutput:  0.722457413319845\n\theaveside:  1\n\tsem erros\n---------------------------\nEpoca: 73\n\t---------------------------\n\tAmostra: 0\n",
      "\tx_atual: [0.3 0.7]\n\tpesos: [0.2946782  0.90579136]\n\toutput:  0.722457413319845\n\theaveside:  1\n\tsem erros\n---------------------------\nEpoca: 74\n\t---------------------------\n\tAmostra: 0\n\tx_atual: [0.3 0.7]\n\tpesos: [0.2946782  0.90579136]\n\toutput:  0.722457413319845\n\theaveside:  1\n\tsem erros\n---------------------------\nEpoca: 75\n\t---------------------------\n\tAmostra: 0\n\tx_atual: [0.3 0.7]\n\tpesos: [0.2946782  0.90579136]\n\toutput:  0.722457413319845\n\theaveside:  1\n\tsem erros\n---------------------------\nEpoca: 76\n\t---------------------------\n\tAmostra: 0\n\tx_atual: [0.3 0.7]\n\tpesos: [0.2946782  0.90579136]\n\toutput:  0.722457413319845\n\theaveside:  1\n\tsem erros\n---------------------------\nEpoca: 77\n\t---------------------------\n\tAmostra: 0\n\tx_atual: [0.3 0.7]\n\tpesos: [0.2946782  0.90579136]\n\toutput:  0.722457413319845\n\theaveside:  1\n\tsem erros\n---------------------------\nEpoca: 78\n\t---------------------------\n\tAmostra: 0\n\tx_atual: [0.3 0.7]\n\tpesos: [0.2946782  0.90579136]\n\toutput:  0.722457413319845\n\theaveside:  1\n\tsem erros\n---------------------------\nEpoca: 79\n\t---------------------------\n\tAmostra: 0\n\tx_atual: [0.3 0.7]\n\tpesos: [0.2946782  0.90579136]\n\toutput:  0.722457413319845\n\theaveside:  1\n\tsem erros\n---------------------------\nEpoca: 80\n\t---------------------------\n\tAmostra: 0\n\tx_atual: [0.3 0.7]\n\tpesos: [0.2946782  0.90579136]\n\toutput:  0.722457413319845\n\theaveside:  1\n\tsem erros\n---------------------------\nEpoca: 81\n\t---------------------------\n\tAmostra: 0\n\tx_atual: [0.3 0.7]\n\tpesos: [0.2946782  0.90579136]\n\toutput:  0.722457413319845\n\theaveside:  1\n\tsem erros\n---------------------------\nEpoca: 82\n\t---------------------------\n\tAmostra: 0\n\tx_atual: [0.3 0.7]\n\tpesos: [0.2946782  0.90579136]\n\toutput:  0.722457413319845\n\theaveside:  1\n\tsem erros\n---------------------------\nEpoca: 83\n\t---------------------------\n\tAmostra: 0\n\tx_atual: [0.3 0.7]\n\tpesos: [0.2946782  0.90579136]\n\toutput:  0.722457413319845\n\theaveside:  1\n\tsem erros\n---------------------------\nEpoca: 84\n\t---------------------------\n\tAmostra: 0\n\tx_atual: [0.3 0.7]\n\tpesos: [0.2946782  0.90579136]\n\toutput:  0.722457413319845\n\theaveside:  1\n\tsem erros\n---------------------------\nEpoca: 85\n\t---------------------------\n\tAmostra: 0\n\tx_atual: [0.3 0.7]\n\tpesos: [0.2946782  0.90579136]\n\toutput:  0.722457413319845\n\theaveside:  1\n\tsem erros\n---------------------------\nEpoca: 86\n\t---------------------------\n\tAmostra: 0\n\tx_atual: [0.3 0.7]\n\tpesos: [0.2946782  0.90579136]\n\toutput:  0.722457413319845\n\theaveside:  1\n\tsem erros\n---------------------------\nEpoca: 87\n\t---------------------------\n\tAmostra: 0\n\tx_atual: [0.3 0.7]\n\tpesos: [0.2946782  0.90579136]\n\toutput:  0.722457413319845\n\theaveside:  1\n\tsem erros\n---------------------------\nEpoca: 88\n\t---------------------------\n\tAmostra: 0\n\tx_atual: [0.3 0.7]\n\tpesos: [0.2946782  0.90579136]\n\toutput:  0.722457413319845\n\theaveside:  1\n\tsem erros\n---------------------------\nEpoca: 89\n\t---------------------------\n\tAmostra: 0\n\tx_atual: [0.3 0.7]\n\tpesos: [0.2946782  0.90579136]\n\toutput:  0.722457413319845\n\theaveside:  1\n\tsem erros\n---------------------------\nEpoca: 90\n\t---------------------------\n\tAmostra: 0\n\tx_atual: [0.3 0.7]\n\tpesos: [0.2946782  0.90579136]\n\toutput:  0.722457413319845\n\theaveside:  1\n\tsem erros\n---------------------------\nEpoca: 91\n\t---------------------------\n\tAmostra: 0\n\tx_atual: [0.3 0.7]\n\tpesos: [0.2946782  0.90579136]\n\toutput:  0.722457413319845\n\theaveside:  1\n\tsem erros\n---------------------------\nEpoca: 92\n\t---------------------------\n\tAmostra: 0\n\tx_atual: [0.3 0.7]\n\tpesos: [0.2946782  0.90579136]\n\toutput:  0.722457413319845\n\theaveside:  1\n\tsem erros\n---------------------------\nEpoca: 93\n\t---------------------------\n\tAmostra: 0\n\tx_atual: [0.3 0.7]\n\tpesos: [0.2946782  0.90579136]\n\toutput:  0.722457413319845\n\theaveside:  1\n\tsem erros\n---------------------------\nEpoca: 94\n\t---------------------------\n\tAmostra: 0\n\tx_atual: [0.3 0.7]\n\tpesos: [0.2946782  0.90579136]\n\toutput:  0.722457413319845\n\theaveside:  1\n\tsem erros\n---------------------------\nEpoca: 95\n\t---------------------------\n\tAmostra: 0\n\tx_atual: [0.3 0.7]\n\tpesos: [0.2946782  0.90579136]\n\toutput:  0.722457413319845\n\theaveside:  1\n\tsem erros\n---------------------------\nEpoca: 96\n\t---------------------------\n\tAmostra: 0\n\tx_atual: [0.3 0.7]\n\tpesos: [0.2946782  0.90579136]\n\toutput:  0.722457413319845\n\theaveside:  1\n\tsem erros\n---------------------------\nEpoca: 97\n\t---------------------------\n\tAmostra: 0\n\tx_atual: [0.3 0.7]\n\tpesos: [0.2946782  0.90579136]\n\toutput:  0.722457413319845\n\theaveside:  1\n\tsem erros\n---------------------------\nEpoca: 98\n\t---------------------------\n\tAmostra: 0\n\tx_atual: [0.3 0.7]\n\tpesos: [0.2946782  0.90579136]\n\toutput:  0.722457413319845\n\theaveside:  1\n\tsem erros\n---------------------------\nEpoca: 99\n\t---------------------------\n\tAmostra: 0\n\tx_atual: [0.3 0.7]\n\tpesos: [0.2946782  0.90579136]\n\toutput:  0.722457413319845\n\theaveside:  1\n\tsem erros\n"
     ],
     "output_type": "stream"
    }
   ],
   "source": [
    "x_train = df[[\"x1\", \"x2\"]]\n",
    "\n",
    "y_train = df[\"classe\"]\n",
    "\n",
    "perceptron = Perceptron(taxa_aprendizado=0.5, n_features=x_train.shape[1])\n",
    "\n",
    "perceptron.fit(x_train, y_train)\n"
   ],
   "metadata": {
    "collapsed": false,
    "pycharm": {
     "name": "#%%\n",
     "is_executing": false
    }
   }
  },
  {
   "cell_type": "code",
   "execution_count": 30,
   "outputs": [
    {
     "data": {
      "text/plain": "[1, 1, 0, 0]"
     },
     "metadata": {},
     "output_type": "execute_result",
     "execution_count": 30
    }
   ],
   "source": [
    "df_sample = df[[\"x1\", \"x2\"]]\n",
    "df\n",
    "perceptron.predict(df_sample)\n"
   ],
   "metadata": {
    "collapsed": false,
    "pycharm": {
     "name": "#%%\n",
     "is_executing": false
    }
   }
  }
 ],
 "metadata": {
  "kernelspec": {
   "display_name": "Python 3",
   "language": "python",
   "name": "python3"
  },
  "language_info": {
   "codemirror_mode": {
    "name": "ipython",
    "version": 2
   },
   "file_extension": ".py",
   "mimetype": "text/x-python",
   "name": "python",
   "nbconvert_exporter": "python",
   "pygments_lexer": "ipython2",
   "version": "2.7.6"
  },
  "pycharm": {
   "stem_cell": {
    "cell_type": "raw",
    "source": [],
    "metadata": {
     "collapsed": false
    }
   }
  }
 },
 "nbformat": 4,
 "nbformat_minor": 0
}